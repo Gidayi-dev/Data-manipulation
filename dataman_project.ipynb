{
 "cells": [
  {
   "cell_type": "code",
   "execution_count": 2,
   "id": "e3773169-ad27-445b-b2f8-46b4bc2971ea",
   "metadata": {},
   "outputs": [
    {
     "name": "stdout",
     "output_type": "stream",
     "text": [
      "Best Math Schools:\n",
      "                                            school_name  average_math\n",
      "88                              Stuyvesant High School           754\n",
      "170                       Bronx High School of Science           714\n",
      "93                 Staten Island Technical High School           711\n",
      "365  Queens High School for the Sciences at York Co...           701\n",
      "68   High School for Mathematics, Science, and Engi...           683\n",
      "\n",
      "Top 10 Schools by SAT:\n",
      "                                            school_name  total_SAT\n",
      "88                              Stuyvesant High School       2144\n",
      "170                       Bronx High School of Science       2041\n",
      "93                 Staten Island Technical High School       2041\n",
      "174  High School of American Studies at Lehman College       2013\n",
      "333                        Townsend Harris High School       1981\n",
      "365  Queens High School for the Sciences at York Co...       1947\n",
      "5                       Bard High School Early College       1914\n",
      "280                     Brooklyn Technical High School       1896\n",
      "45                       Eleanor Roosevelt High School       1889\n",
      "68   High School for Mathematics, Science, and Engi...       1889\n",
      "\n",
      "Borough with Largest Std Dev:\n",
      "      borough  num_schools  average_SAT  std_SAT\n",
      "2  Manhattan           89      1340.13   230.29\n"
     ]
    }
   ],
   "source": [
    "import pandas as pd\n",
    "\n",
    "schools = pd.read_csv(\"schools.csv\")\n",
    "\n",
    "schools[\"average_math\"] = pd.to_numeric(schools[\"average_math\"], errors='coerce')\n",
    "schools[\"average_reading\"] = pd.to_numeric(schools[\"average_reading\"], errors='coerce')\n",
    "schools[\"average_writing\"] = pd.to_numeric(schools[\"average_writing\"], errors='coerce')\n",
    "\n",
    "schools[\"total_SAT\"] = schools[\"average_math\"] + schools[\"average_reading\"] + schools[\"average_writing\"]\n",
    "\n",
    "best_math_schools = schools[schools[\"average_math\"] >= 640][[\"school_name\", \"average_math\"]].sort_values(by=\"average_math\", ascending=False)\n",
    "\n",
    "top_10_schools = schools[[\"school_name\", \"total_SAT\"]].sort_values(by=\"total_SAT\", ascending=False).head(10)\n",
    "\n",
    "borough_stats = schools.groupby(\"borough\")[\"total_SAT\"].agg([\"count\", \"mean\", \"std\"]).reset_index()\n",
    "borough_stats.columns = [\"borough\", \"num_schools\", \"average_SAT\", \"std_SAT\"]\n",
    "borough_stats = borough_stats.round({\"average_SAT\": 2, \"std_SAT\": 2})\n",
    "largest_std_dev = borough_stats.sort_values(by=\"std_SAT\", ascending=False).head(1)\n",
    "\n",
    "print(\"Best Math Schools:\\n\", best_math_schools.head())\n",
    "print(\"\\nTop 10 Schools by SAT:\\n\", top_10_schools)\n",
    "print(\"\\nBorough with Largest Std Dev:\\n\", largest_std_dev)\n"
   ]
  },
  {
   "cell_type": "code",
   "execution_count": null,
   "id": "076e0ce0-fd8f-43aa-acf1-490a89379ada",
   "metadata": {},
   "outputs": [],
   "source": []
  }
 ],
 "metadata": {
  "kernelspec": {
   "display_name": "Python [conda env:base] *",
   "language": "python",
   "name": "conda-base-py"
  },
  "language_info": {
   "codemirror_mode": {
    "name": "ipython",
    "version": 3
   },
   "file_extension": ".py",
   "mimetype": "text/x-python",
   "name": "python",
   "nbconvert_exporter": "python",
   "pygments_lexer": "ipython3",
   "version": "3.12.7"
  }
 },
 "nbformat": 4,
 "nbformat_minor": 5
}
